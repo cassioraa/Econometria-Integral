{
 "cells": [
  {
   "cell_type": "code",
   "execution_count": 1,
   "metadata": {},
   "outputs": [],
   "source": [
    "# Autor: Cássio Roberto de Andrade Alves\n",
    "# Data: 11/03/2018\n",
    "# Código: Calcula integral numérica da distribuição normal via retângulos"
   ]
  },
  {
   "cell_type": "code",
   "execution_count": null,
   "metadata": {},
   "outputs": [],
   "source": [
    "import numpy as np"
   ]
  },
  {
   "cell_type": "code",
   "execution_count": 45,
   "metadata": {},
   "outputs": [],
   "source": [
    "# integral da gaussiana no intervalo [a,b]\n",
    "# n é o número de retângulos que será utilizado. Quanto maior, melhor, porém mais lento. Default n = 1.000.000.\n",
    "# mu e sigma são os parâmetros da distriuição normal\n",
    "def integra_normal(a = -10000, b = 10000, n = 1000000, mu=0, sigma=1):\n",
    "    l = (b-a)/n\n",
    "    x = [0 for x in range(n)]\n",
    "    y = [0 for y in range(n)]\n",
    "    A = [0 for A in range(n)]\n",
    "    for i in range(n):\n",
    "        x[i] = a + i*l\n",
    "    for i in range(n):\n",
    "        y[i] = (1/(2*np.pi*sigma)**.5)*np.exp(-(x[i] - mu)**2 /2*sigma**2)\n",
    "    for i in range(n):\n",
    "        A[i] = l*y[i]\n",
    "    return(sum(A))\n",
    "    "
   ]
  },
  {
   "cell_type": "code",
   "execution_count": 46,
   "metadata": {},
   "outputs": [
    {
     "data": {
      "text/plain": [
       "0.15877613843227262"
      ]
     },
     "execution_count": 46,
     "metadata": {},
     "output_type": "execute_result"
    }
   ],
   "source": [
    "integra_normal(a = 1, b = 1000, n = 1000000, mu = 0, sigma = 1)"
   ]
  },
  {
   "cell_type": "code",
   "execution_count": 47,
   "metadata": {},
   "outputs": [
    {
     "data": {
      "text/plain": [
       "1.0000000000000002"
      ]
     },
     "execution_count": 47,
     "metadata": {},
     "output_type": "execute_result"
    }
   ],
   "source": [
    "integra_normal()"
   ]
  }
 ],
 "metadata": {
  "kernelspec": {
   "display_name": "Python 3",
   "language": "python",
   "name": "python3"
  },
  "language_info": {
   "codemirror_mode": {
    "name": "ipython",
    "version": 3
   },
   "file_extension": ".py",
   "mimetype": "text/x-python",
   "name": "python",
   "nbconvert_exporter": "python",
   "pygments_lexer": "ipython3",
   "version": "3.6.4"
  }
 },
 "nbformat": 4,
 "nbformat_minor": 2
}
